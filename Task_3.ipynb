{
  "nbformat": 4,
  "nbformat_minor": 0,
  "metadata": {
    "colab": {
      "provenance": []
    },
    "kernelspec": {
      "name": "python3",
      "display_name": "Python 3"
    },
    "language_info": {
      "name": "python"
    }
  },
  "cells": [
    {
      "cell_type": "markdown",
      "source": [
        "\n",
        "\n",
        "\n",
        "# Step 1: Import and Preprocess the Dataset\n",
        "\n",
        "\n",
        "\n"
      ],
      "metadata": {
        "id": "-HsuIGEAQCFm"
      }
    },
    {
      "cell_type": "code",
      "execution_count": 1,
      "metadata": {
        "colab": {
          "base_uri": "https://localhost:8080/"
        },
        "id": "RCK5eKwHM4Uc",
        "outputId": "f29b4145-093a-47a4-beb1-87eff868c323"
      },
      "outputs": [
        {
          "output_type": "stream",
          "name": "stdout",
          "text": [
            "    Feature     Target\n",
            "0  0.931280  50.779929\n",
            "1  0.087047 -10.065270\n",
            "2 -1.057711 -34.918392\n",
            "3  0.314247  10.526743\n",
            "4 -0.479174 -17.738377\n"
          ]
        }
      ],
      "source": [
        "\n",
        "\n",
        "import pandas as pd\n",
        "from sklearn.datasets import make_regression\n",
        "\n",
        "# Generate synthetic dataset for simple linear regression\n",
        "X, y = make_regression(n_samples=100, n_features=1, noise=10, random_state=42)\n",
        "\n",
        "# Convert to DataFrame\n",
        "df = pd.DataFrame({'Feature': X.flatten(), 'Target': y})\n",
        "\n",
        "# Preview dataset\n",
        "print(df.head())\n"
      ]
    },
    {
      "cell_type": "markdown",
      "source": [
        "\n",
        "# Step 2: Split data into train-test sets\n",
        "\n",
        "\n"
      ],
      "metadata": {
        "id": "_YfDMBfLQPdD"
      }
    },
    {
      "cell_type": "code",
      "source": [
        "\n",
        "\n",
        "from sklearn.model_selection import train_test_split\n",
        "\n",
        "# Assuming X and y are already defined (from Step 1)\n",
        "X_train, X_test, y_train, y_test = train_test_split(X, y, test_size=0.2, random_state=42)\n",
        "\n",
        "print(\"Training samples:\", len(X_train))\n",
        "print(\"Testing samples:\", len(X_test))\n"
      ],
      "metadata": {
        "colab": {
          "base_uri": "https://localhost:8080/"
        },
        "id": "482UW_hXQNs9",
        "outputId": "7db7ac39-e486-4970-c6b7-0ee1a8dc3ec6"
      },
      "execution_count": 2,
      "outputs": [
        {
          "output_type": "stream",
          "name": "stdout",
          "text": [
            "Training samples: 80\n",
            "Testing samples: 20\n"
          ]
        }
      ]
    },
    {
      "cell_type": "markdown",
      "source": [
        "\n",
        "# Step 3: Fit a Linear Regression model\n",
        "\n"
      ],
      "metadata": {
        "id": "9xtvIZsIQgof"
      }
    },
    {
      "cell_type": "code",
      "source": [
        "\n",
        "\n",
        "from sklearn.linear_model import LinearRegression\n",
        "\n",
        "# Initialize and train the model\n",
        "model = LinearRegression()\n",
        "model.fit(X_train, y_train)\n",
        "\n",
        "# Show learned parameters\n",
        "print(\"Model trained successfully!\")\n",
        "print(\"Coefficient (slope):\", model.coef_[0])\n",
        "print(\"Intercept:\", model.intercept_)\n"
      ],
      "metadata": {
        "colab": {
          "base_uri": "https://localhost:8080/"
        },
        "id": "nNHhPuVWQUQq",
        "outputId": "fe6ae08e-4574-4df9-be32-a30d3825ab96"
      },
      "execution_count": 3,
      "outputs": [
        {
          "output_type": "stream",
          "name": "stdout",
          "text": [
            "Model trained successfully!\n",
            "Coefficient (slope): 44.24418215597419\n",
            "Intercept: 0.09922221422587718\n"
          ]
        }
      ]
    },
    {
      "cell_type": "markdown",
      "source": [
        "\n",
        "#Step-4.Evaluate model using MAE, MSE, R^2\n",
        "\n"
      ],
      "metadata": {
        "id": "INThhw8gQvrs"
      }
    },
    {
      "cell_type": "code",
      "source": [
        "\n",
        "\n",
        "from sklearn.metrics import mean_absolute_error, mean_squared_error, r2_score\n",
        "\n",
        "# Predict on test set\n",
        "y_pred = model.predict(X_test)\n",
        "\n",
        "# Calculate metrics\n",
        "mae = mean_absolute_error(y_test, y_pred)\n",
        "mse = mean_squared_error(y_test, y_pred)\n",
        "r2 = r2_score(y_test, y_pred)\n",
        "\n",
        "print(\"Mean Absolute Error (MAE):\", mae)\n",
        "print(\"Mean Squared Error (MSE):\", mse)\n",
        "print(\"R² Score:\", r2)\n"
      ],
      "metadata": {
        "colab": {
          "base_uri": "https://localhost:8080/"
        },
        "id": "I9bv0zxIQosk",
        "outputId": "3a9894a1-ce1e-4f7a-b0aa-46faadafb1b9"
      },
      "execution_count": 4,
      "outputs": [
        {
          "output_type": "stream",
          "name": "stdout",
          "text": [
            "Mean Absolute Error (MAE): 8.416659922209051\n",
            "Mean Squared Error (MSE): 104.20222653187027\n",
            "R² Score: 0.9374151607623286\n"
          ]
        }
      ]
    },
    {
      "cell_type": "markdown",
      "source": [
        "\n",
        "\n",
        "# Step 5: Plot regression line and interpret coefficients\n",
        "\n"
      ],
      "metadata": {
        "id": "zcsui0HTQ7vn"
      }
    },
    {
      "cell_type": "code",
      "source": [
        "\n",
        "\n",
        "import matplotlib.pyplot as plt\n",
        "\n",
        "# Plot actual vs predicted\n",
        "plt.scatter(X_test, y_test, color='blue', label='Actual')\n",
        "plt.plot(X_test, y_pred, color='red', label='Regression Line')\n",
        "plt.title(\"Simple Linear Regression\")\n",
        "plt.xlabel(\"Feature\")\n",
        "plt.ylabel(\"Target\")\n",
        "plt.legend()\n",
        "plt.grid(True)\n",
        "plt.show()\n",
        "\n",
        "# Interpretation\n",
        "print(\"The slope (coefficient) indicates the rate at which the target variable changes per unit of the feature.\")\n"
      ],
      "metadata": {
        "colab": {
          "base_uri": "https://localhost:8080/",
          "height": 489
        },
        "id": "wmNN440-Q4IJ",
        "outputId": "6bdadd7d-6927-4457-aed5-63e2bdf354b2"
      },
      "execution_count": 5,
      "outputs": [
        {
          "output_type": "display_data",
          "data": {
            "text/plain": [
              "<Figure size 640x480 with 1 Axes>"
            ],
            "image/png": "[encoded data removed]"
          },
          "metadata": {}
        },
        {
          "output_type": "stream",
          "name": "stdout",
          "text": [
            "The slope (coefficient) indicates the rate at which the target variable changes per unit of the feature.\n"
          ]
        }
      ]
    }
  ]
}