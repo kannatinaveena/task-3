{
  "nbformat": 4,
  "nbformat_minor": 0,
  "metadata": {
    "colab": {
      "provenance": []
    },
    "kernelspec": {
      "name": "python3",
      "display_name": "Python 3"
    },
    "language_info": {
      "name": "python"
    }
  },
  "cells": [
    {
      "cell_type": "markdown",
      "source": [
        "\n",
        "\n",
        "\n",
        "# Step 1: Import and Preprocess the Dataset\n",
        "\n",
        "\n",
        "\n"
      ],
      "metadata": {
        "id": "-HsuIGEAQCFm"
      }
    },
    {
      "cell_type": "code",
      "execution_count": 23,
      "metadata": {
        "colab": {
          "base_uri": "https://localhost:8080/"
        },
        "id": "RCK5eKwHM4Uc",
        "outputId": "222ffdb6-7736-4ac8-8df3-a70c3ef18af8"
      },
      "outputs": [
        {
          "output_type": "stream",
          "name": "stdout",
          "text": [
            "      price  area  bedrooms  bathrooms  stories mainroad guestroom basement  \\\n",
            "0  13300000  7420         4          2        3      yes        no       no   \n",
            "1  12250000  8960         4          4        4      yes        no       no   \n",
            "2  12250000  9960         3          2        2      yes        no      yes   \n",
            "3  12215000  7500         4          2        2      yes        no      yes   \n",
            "4  11410000  7420         4          1        2      yes       yes      yes   \n",
            "\n",
            "  hotwaterheating airconditioning  parking prefarea furnishingstatus  \n",
            "0              no             yes        2      yes        furnished  \n",
            "1              no             yes        3       no        furnished  \n",
            "2              no              no        2      yes   semi-furnished  \n",
            "3              no             yes        3      yes        furnished  \n",
            "4              no             yes        2       no        furnished  \n",
            "<class 'pandas.core.frame.DataFrame'>\n",
            "RangeIndex: 545 entries, 0 to 544\n",
            "Data columns (total 13 columns):\n",
            " #   Column            Non-Null Count  Dtype \n",
            "---  ------            --------------  ----- \n",
            " 0   price             545 non-null    int64 \n",
            " 1   area              545 non-null    int64 \n",
            " 2   bedrooms          545 non-null    int64 \n",
            " 3   bathrooms         545 non-null    int64 \n",
            " 4   stories           545 non-null    int64 \n",
            " 5   mainroad          545 non-null    object\n",
            " 6   guestroom         545 non-null    object\n",
            " 7   basement          545 non-null    object\n",
            " 8   hotwaterheating   545 non-null    object\n",
            " 9   airconditioning   545 non-null    object\n",
            " 10  parking           545 non-null    int64 \n",
            " 11  prefarea          545 non-null    object\n",
            " 12  furnishingstatus  545 non-null    object\n",
            "dtypes: int64(6), object(7)\n",
            "memory usage: 55.5+ KB\n",
            "None\n"
          ]
        }
      ],
      "source": [
        "import pandas as pd\n",
        "import numpy as np\n",
        "from sklearn.model_selection import train_test_split\n",
        "from sklearn.linear_model import LinearRegression\n",
        "from sklearn.metrics import mean_absolute_error, mean_squared_error, r2_score\n",
        "import matplotlib.pyplot as plt\n",
        "\n",
        "# Load dataset\n",
        "df = pd.read_csv(\"/content/Housing.csv\")\n",
        "\n",
        "# Display basic info\n",
        "print(df.head())\n",
        "print(df.info())\n",
        "\n",
        "# Drop rows with missing values for simplicity\n",
        "df.dropna(inplace=True)\n",
        "\n",
        "# Select features and target\n",
        "X = df[['area', 'price', 'bathrooms']]  # Example features\n",
        "y = df['airconditioning']  # Target variable\n"
      ]
    },
    {
      "cell_type": "markdown",
      "source": [
        "\n",
        "# Step 2: Split data into train-test sets\n",
        "\n",
        "\n"
      ],
      "metadata": {
        "id": "_YfDMBfLQPdD"
      }
    },
    {
      "cell_type": "code",
      "source": [
        "\n",
        "\n",
        "from sklearn.model_selection import train_test_split\n",
        "\n",
        "# Assuming X and y are already defined (from Step 1)\n",
        "X_train, X_test, y_train, y_test = train_test_split(X, y, test_size=0.2, random_state=42)\n",
        "\n",
        "print(\"Training samples:\", len(X_train))\n",
        "print(\"Testing samples:\", len(X_test))\n"
      ],
      "metadata": {
        "colab": {
          "base_uri": "https://localhost:8080/"
        },
        "id": "482UW_hXQNs9",
        "outputId": "391fa06c-f5c4-43c4-c83f-995a2ea719af"
      },
      "execution_count": 24,
      "outputs": [
        {
          "output_type": "stream",
          "name": "stdout",
          "text": [
            "Training samples: 436\n",
            "Testing samples: 109\n"
          ]
        }
      ]
    },
    {
      "cell_type": "markdown",
      "source": [
        "\n",
        "# Step 3: Fit a Linear Regression model\n",
        "\n"
      ],
      "metadata": {
        "id": "9xtvIZsIQgof"
      }
    },
    {
      "cell_type": "code",
      "source": [
        "import pandas as pd\n",
        "from sklearn.model_selection import train_test_split\n",
        "from sklearn.linear_model import LinearRegression\n",
        "\n",
        "# Load dataset\n",
        "df = pd.read_csv(\"/content/Housing.csv\")  # Adjust path as needed\n",
        "\n",
        "# Convert categorical target (if applicable)\n",
        "if df['price'].dtype == 'object':\n",
        "    df['price'] = df['price'].map({'yes': 1, 'no': 0})  # Only for binary target\n",
        "\n",
        "# Select features and target\n",
        "X = df[['airconditioning', 'bedrooms', 'bathrooms']]  # Choose your relevant numeric features\n",
        "y = df['price']  # Target variable\n",
        "\n",
        "# One-hot encode categorical features (if any)\n",
        "X = pd.get_dummies(X)\n",
        "\n",
        "# Train-test split\n",
        "X_train, X_test, y_train, y_test = train_test_split(X, y, test_size=0.2, random_state=42)\n",
        "\n",
        "# Initialize and train the Linear Regression model\n",
        "model = LinearRegression()\n",
        "model.fit(X_train, y_train)\n",
        "\n",
        "# Predict on test set\n",
        "y_pred = model.predict(X_test)\n",
        "\n",
        "# Output for verification\n",
        "print(\"Model trained successfully.\")\n",
        "print(\"Sample predictions:\", y_pred[:5])\n"
      ],
      "metadata": {
        "colab": {
          "base_uri": "https://localhost:8080/"
        },
        "id": "nNHhPuVWQUQq",
        "outputId": "4f57d193-1f5b-429f-8596-6bd6367fbd31"
      },
      "execution_count": 32,
      "outputs": [
        {
          "output_type": "stream",
          "name": "stdout",
          "text": [
            "Model trained successfully.\n",
            "Sample predictions: [5721341.61017873 6745074.9298477  3576498.31187028 5267172.81019635\n",
            " 3909968.90119883]\n"
          ]
        }
      ]
    },
    {
      "cell_type": "markdown",
      "source": [
        "\n",
        "#Step-4.Evaluate model using MAE, MSE, R^2\n",
        "\n"
      ],
      "metadata": {
        "id": "INThhw8gQvrs"
      }
    },
    {
      "cell_type": "code",
      "source": [
        "\n",
        "\n",
        "from sklearn.metrics import mean_absolute_error, mean_squared_error, r2_score\n",
        "\n",
        "# Predict on test set\n",
        "y_pred = model.predict(X_test)\n",
        "\n",
        "# Calculate metrics\n",
        "mae = mean_absolute_error(y_test, y_pred)\n",
        "mse = mean_squared_error(y_test, y_pred)\n",
        "r2 = r2_score(y_test, y_pred)\n",
        "\n",
        "print(\"Mean Absolute Error (MAE):\", mae)\n",
        "print(\"Mean Squared Error (MSE):\", mse)\n",
        "print(\"R² Score:\", r2)\n"
      ],
      "metadata": {
        "colab": {
          "base_uri": "https://localhost:8080/"
        },
        "id": "I9bv0zxIQosk",
        "outputId": "f1c19148-1df9-4e35-9912-b94900de6b89"
      },
      "execution_count": 27,
      "outputs": [
        {
          "output_type": "stream",
          "name": "stdout",
          "text": [
            "Mean Absolute Error (MAE): 0.3546801588686892\n",
            "Mean Squared Error (MSE): 0.1976358696635644\n",
            "R² Score: 0.1296842967113384\n"
          ]
        }
      ]
    },
    {
      "cell_type": "markdown",
      "source": [
        "\n",
        "\n",
        "# Step 5: Plot regression line and interpret coefficients\n",
        "\n"
      ],
      "metadata": {
        "id": "zcsui0HTQ7vn"
      }
    },
    {
      "cell_type": "code",
      "source": [
        "# Plot regression for one feature (e.g., sqft_living)\n",
        "plt.scatter(X_test['bathrooms'], y_test, color='blue', label='Actual')\n",
        "plt.scatter(X_test['price'], y_pred, color='red', label='Predicted', alpha=0.5)\n",
        "plt.xlabel('bathrooms')\n",
        "plt.ylabel('price')\n",
        "plt.title('Linear Regression: bathrooms vs price')\n",
        "plt.legend()\n",
        "plt.show()\n",
        "\n",
        "# Coefficient interpretation\n",
        "print(\"\\nModel Intercept:\", model.intercept_)\n",
        "print(\"Feature Coefficients:\")\n",
        "for feature, coef in zip(X.columns, model.coef_):\n",
        "    print(f\"{feature}: {coef}\")"
      ],
      "metadata": {
        "colab": {
          "base_uri": "https://localhost:8080/",
          "height": 576
        },
        "id": "wmNN440-Q4IJ",
        "outputId": "14034f68-1f50-469d-9e90-bcd10838f6bb"
      },
      "execution_count": 31,
      "outputs": [
        {
          "output_type": "display_data",
          "data": {
            "text/plain": [
              "<Figure size 640x480 with 1 Axes>"
            ],
            "image/png": "[encoded data removed]"
          },
          "metadata": {}
        },
        {
          "output_type": "stream",
          "name": "stdout",
          "text": [
            "\n",
            "Model Intercept: -0.21620990638034082\n",
            "Feature Coefficients:\n",
            "area: -1.2040375042293286e-05\n",
            "price: 1.4017107953749695e-07\n",
            "bathrooms: -0.05853760943993181\n"
          ]
        }
      ]
    }
  ]
}